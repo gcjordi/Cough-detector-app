{
  "nbformat": 4,
  "nbformat_minor": 0,
  "metadata": {
    "colab": {
      "name": "02. Model_Preprocessing.ipynb",
      "provenance": [],
      "collapsed_sections": [],
      "authorship_tag": "ABX9TyPR1AXRgpfcQf5LpeFjKUCO",
      "include_colab_link": true
    },
    "kernelspec": {
      "name": "python3",
      "display_name": "Python 3"
    }
  },
  "cells": [
    {
      "cell_type": "markdown",
      "metadata": {
        "id": "view-in-github",
        "colab_type": "text"
      },
      "source": [
        "<a href=\"https://colab.research.google.com/github/kartikay-99k/Cough-detector-app/blob/master/02_Model_Preprocessing.ipynb\" target=\"_parent\"><img src=\"https://colab.research.google.com/assets/colab-badge.svg\" alt=\"Open In Colab\"/></a>"
      ]
    },
    {
      "cell_type": "markdown",
      "metadata": {
        "id": "eZJBqUhc0rdj",
        "colab_type": "text"
      },
      "source": [
        "## 1. Importing Libraries"
      ]
    },
    {
      "cell_type": "code",
      "metadata": {
        "id": "utZxlKec03Kq",
        "colab_type": "code",
        "colab": {}
      },
      "source": [
        "import tensorflow as tf\n",
        "from pathlib import Path\n",
        "import numpy as np\n",
        "from tensorflow.keras.preprocessing import image\n",
        "from tensorflow.keras.applications import mobilenet_v2\n",
        "import joblib\n",
        "import glob\n",
        "from sklearn.model_selection import train_test_split\n",
        "\n",
        "\n"
      ],
      "execution_count": 0,
      "outputs": []
    },
    {
      "cell_type": "markdown",
      "metadata": {
        "id": "F6XV_SxxY1Kt",
        "colab_type": "text"
      },
      "source": [
        "## 2. Data Preparation"
      ]
    },
    {
      "cell_type": "code",
      "metadata": {
        "id": "A5dw_snL7Nb9",
        "colab_type": "code",
        "colab": {}
      },
      "source": [
        "# path to spectrogram images\n",
        "cough_path = Path(\"/Drive/Drive 2/Colab Notebooks/Data/Cough\")\n",
        "non_cough_path = Path(\"/Drive/Drive 2/Colab Notebooks/Data/Non-Cough\")"
      ],
      "execution_count": 0,
      "outputs": []
    },
    {
      "cell_type": "code",
      "metadata": {
        "id": "0IETbxYBK5ij",
        "colab_type": "code",
        "colab": {}
      },
      "source": [
        ""
      ],
      "execution_count": 0,
      "outputs": []
    },
    {
      "cell_type": "code",
      "metadata": {
        "id": "mBt7RnZbLGR5",
        "colab_type": "code",
        "colab": {}
      },
      "source": [
        "# list to hold data\n",
        "Labels = []\n",
        "Images = []\n",
        "# for loading cough sound\n",
        "for img in cough_path.glob(\"*.png\"):\n",
        "  img = image.load_img(img)\n",
        "  image_array = image.img_to_array(img)\n",
        "  #img = img.resize((224, 224))\n",
        "  Images.append(image_array)\n",
        "  Labels.append(1)\n",
        "# for loading non cough sound\n",
        "for img in non_cough_path.glob(\"*.png\"):\n",
        "  img = image.load_img(img)\n",
        "  #img = img.resize((224, 224))\n",
        "  image_array = image.img_to_array(img)\n",
        "  Images.append(image_array)\n",
        "  Labels.append(0)\n",
        "\n"
      ],
      "execution_count": 0,
      "outputs": []
    },
    {
      "cell_type": "code",
      "metadata": {
        "id": "5-WaOFHxTXUF",
        "colab_type": "code",
        "colab": {}
      },
      "source": [
        "# converting images to numpy array\n",
        "x_train = np.array(Images)\n",
        "y_train = np.array(Labels)\n",
        "#x_train = x_train.reshape((-1, 224, 224, 3), order= \"C\")"
      ],
      "execution_count": 0,
      "outputs": []
    },
    {
      "cell_type": "code",
      "metadata": {
        "id": "pRv__2G6Gypp",
        "colab_type": "code",
        "outputId": "b00fc932-9058-4b34-8b53-836777a9f8f1",
        "colab": {
          "base_uri": "https://localhost:8080/",
          "height": 34
        }
      },
      "source": [
        "x_train.shape\n",
        "#x_train = x_train.reshape((-1, 224, 224, 3))"
      ],
      "execution_count": 5,
      "outputs": [
        {
          "output_type": "execute_result",
          "data": {
            "text/plain": [
              "(2000, 302, 310, 3)"
            ]
          },
          "metadata": {
            "tags": []
          },
          "execution_count": 5
        }
      ]
    },
    {
      "cell_type": "code",
      "metadata": {
        "id": "iXiRtcvYT-C2",
        "colab_type": "code",
        "colab": {}
      },
      "source": [
        "# normalizing data to 0 to 1 range\n",
        "X_train = mobilenet_v2.preprocess_input(x_train)\n"
      ],
      "execution_count": 0,
      "outputs": []
    },
    {
      "cell_type": "code",
      "metadata": {
        "id": "4jJKkzZlaI0Q",
        "colab_type": "code",
        "colab": {}
      },
      "source": [
        "x_train, X_test, y_train, Y_test = train_test_split(X_train, y_train, test_size=0.10)"
      ],
      "execution_count": 0,
      "outputs": []
    },
    {
      "cell_type": "code",
      "metadata": {
        "id": "kqcvcdjMApuq",
        "colab_type": "code",
        "outputId": "dffaad35-ac15-40dc-ccfa-3a960716e8bc",
        "colab": {
          "base_uri": "https://localhost:8080/",
          "height": 34
        }
      },
      "source": [
        "x_train.shape"
      ],
      "execution_count": 8,
      "outputs": [
        {
          "output_type": "execute_result",
          "data": {
            "text/plain": [
              "(1800, 302, 310, 3)"
            ]
          },
          "metadata": {
            "tags": []
          },
          "execution_count": 8
        }
      ]
    },
    {
      "cell_type": "markdown",
      "metadata": {
        "id": "qx_GiiVQPRe7",
        "colab_type": "text"
      },
      "source": [
        "## 3. Feature Extraction from Pre_Trained Model"
      ]
    },
    {
      "cell_type": "code",
      "metadata": {
        "id": "aMxn7dXzU-f_",
        "colab_type": "code",
        "outputId": "fe135b6e-96f3-4922-ed9a-80426627d1dd",
        "colab": {
          "base_uri": "https://localhost:8080/",
          "height": 71
        }
      },
      "source": [
        "\n",
        "pretrained_model = mobilenet_v2.MobileNetV2(weights = \"imagenet\", include_top = False, input_shape =(302, 310, 3) )"
      ],
      "execution_count": 9,
      "outputs": [
        {
          "output_type": "stream",
          "text": [
            "C:\\ProgramData\\Anaconda3\\lib\\site-packages\\keras_applications\\mobilenet_v2.py:294: UserWarning: `input_shape` is undefined or non-square, or `rows` is not in [96, 128, 160, 192, 224]. Weights for input shape (224, 224) will be loaded as the default.\n",
            "  warnings.warn('`input_shape` is undefined or non-square, '\n"
          ],
          "name": "stderr"
        }
      ]
    },
    {
      "cell_type": "code",
      "metadata": {
        "id": "jWH1UCNN_7NF",
        "colab_type": "code",
        "colab": {}
      },
      "source": [
        "features_Train = pretrained_model.predict(x_train)\n",
        "features_Test = pretrained_model.predict(X_test)"
      ],
      "execution_count": 0,
      "outputs": []
    },
    {
      "cell_type": "code",
      "metadata": {
        "id": "oYedDnrqPJ7l",
        "colab_type": "code",
        "outputId": "e85f393b-65c1-49db-ac4d-7ab766ef6651",
        "colab": {
          "base_uri": "https://localhost:8080/",
          "height": 34
        }
      },
      "source": [
        "# Saving Features to file\n",
        "joblib.dump(features_Train, \"/Drive/Drive 2/Colab Notebooks/Dump_Data/x_train.dat\")\n",
        "joblib.dump(y_train, \"/Drive/Drive 2/Colab Notebooks/Dump_Data/y_train.dat\")"
      ],
      "execution_count": 11,
      "outputs": [
        {
          "output_type": "execute_result",
          "data": {
            "text/plain": [
              "['/Drive/Drive 2/Colab Notebooks/Dump_Data/y_train.dat']"
            ]
          },
          "metadata": {
            "tags": []
          },
          "execution_count": 11
        }
      ]
    },
    {
      "cell_type": "code",
      "metadata": {
        "id": "yPmrQ1mwPKo7",
        "colab_type": "code",
        "outputId": "dd1dd9b0-e7b4-40c9-8523-451a8d4d4420",
        "colab": {
          "base_uri": "https://localhost:8080/",
          "height": 34
        }
      },
      "source": [
        "joblib.dump(features_Test, \"/Drive/Drive 2/Colab Notebooks/Dump_Data/X_test\")\n",
        "joblib.dump(Y_test, \"/Drive/Drive 2/Colab Notebooks/Dump_Data/Y_test\")"
      ],
      "execution_count": 12,
      "outputs": [
        {
          "output_type": "execute_result",
          "data": {
            "text/plain": [
              "['/Drive/Drive 2/Colab Notebooks/Dump_Data/Y_test']"
            ]
          },
          "metadata": {
            "tags": []
          },
          "execution_count": 12
        }
      ]
    },
    {
      "cell_type": "code",
      "metadata": {
        "id": "dl6n-HGNPKxN",
        "colab_type": "code",
        "colab": {}
      },
      "source": [
        ""
      ],
      "execution_count": 0,
      "outputs": []
    },
    {
      "cell_type": "markdown",
      "metadata": {
        "id": "dngbssJKQXDn",
        "colab_type": "text"
      },
      "source": [
        "# New Section"
      ]
    }
  ]
}