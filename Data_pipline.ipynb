{
  "nbformat": 4,
  "nbformat_minor": 0,
  "metadata": {
    "colab": {
      "name": "Data_pipline.ipynb",
      "provenance": [],
      "collapsed_sections": [],
      "toc_visible": true,
      "authorship_tag": "ABX9TyNx0E106/wM/+DgLe2X+tyQ",
      "include_colab_link": true
    },
    "kernelspec": {
      "name": "python3",
      "display_name": "Python 3"
    }
  },
  "cells": [
    {
      "cell_type": "markdown",
      "metadata": {
        "id": "view-in-github",
        "colab_type": "text"
      },
      "source": [
        "<a href=\"https://colab.research.google.com/github/kartikay-99k/Cough-detector-app/blob/master/Data_pipline.ipynb\" target=\"_parent\"><img src=\"https://colab.research.google.com/assets/colab-badge.svg\" alt=\"Open In Colab\"/></a>"
      ]
    },
    {
      "cell_type": "code",
      "metadata": {
        "id": "q-6RbgtV8ecj",
        "colab_type": "code",
        "colab": {}
      },
      "source": [
        "%matplotlib inline\n",
        "import sounddevice as sd\n",
        "from scipy.io.wavfile import write\n",
        "import pandas as pd\n",
        "import os\n",
        "import librosa\n",
        "import librosa.display\n",
        "import matplotlib.pyplot as plt\n",
        "import numpy as np\n",
        "from tensorflow.keras.preprocessing import image\n",
        "from tensorflow.keras.models import load_model\n",
        "\n"
      ],
      "execution_count": 0,
      "outputs": []
    },
    {
      "cell_type": "code",
      "metadata": {
        "id": "YoSzq_N88qFV",
        "colab_type": "code",
        "colab": {}
      },
      "source": [
        "## optional for sound recording\n",
        "def sound_record():\n",
        "  fs = 44100  # Sample rate\n",
        "  seconds = 3  # Duration of recording\n",
        "  myrecording = sd.rec(int(seconds * fs), samplerate=fs, channels=2)\n",
        "  sd.wait()  # Wait until recording is finished\n",
        "  write('/@Folder/sound/output.wav', fs, myrecording)  # Save as WAV file "
      ],
      "execution_count": 0,
      "outputs": []
    },
    {
      "cell_type": "code",
      "metadata": {
        "id": "0u0gaSzBDJRO",
        "colab_type": "code",
        "colab": {}
      },
      "source": [
        "def create_spectrogram():\n",
        "    plt.interactive(False)\n",
        "    path = \"/@Folder/sound/output.wav\"\n",
        "    clip, sample_rate = librosa.load(path, sr=None)\n",
        "    fig = plt.figure(figsize=[.4,.4])\n",
        "    ax = fig.add_subplot(111)\n",
        "    ax.axes.get_xaxis().set_visible(False)\n",
        "    ax.axes.get_yaxis().set_visible(False)\n",
        "    ax.set_frame_on(False)\n",
        "    S = librosa.feature.melspectrogram(y=clip, sr=sample_rate)\n",
        "    librosa.display.specshow(librosa.power_to_db(S, ref=np.max))\n",
        "    filename = '/@Folder/sound/output.png' \n",
        "    plt.savefig(filename, dpi=400, bbox_inches='tight',pad_inches=0)\n",
        "    plt.close()    \n",
        "    fig.clf()\n",
        "    plt.close(fig)\n",
        "    plt.close('all')"
      ],
      "execution_count": 0,
      "outputs": []
    },
    {
      "cell_type": "code",
      "metadata": {
        "id": "U7-zZkt-EGce",
        "colab_type": "code",
        "colab": {}
      },
      "source": [
        "def train_data():\n",
        "    # list to hold Train data\n",
        "    Images = []\n",
        "    # for loading spectrogram Image\n",
        "    fname = '/@Folder/sound/output.png'\n",
        "    img = image.load_img(fname)\n",
        "    image_array = image.img_to_array(img)\n",
        "    Images.append(image_array)    \n",
        "    x_train = np.expand_dims(image_array, axis=0)\n",
        "    x_train = preprocess_input(preprocess_input(images))\n",
        "    return x_train\n"
      ],
      "execution_count": 0,
      "outputs": []
    },
    {
      "cell_type": "code",
      "metadata": {
        "id": "9oN4Ku5TGSfH",
        "colab_type": "code",
        "colab": {}
      },
      "source": [
        "def run():\n",
        "  #sound_record()\n",
        "  #create_spectrogram()\n",
        "  return train_data()"
      ],
      "execution_count": 0,
      "outputs": []
    },
    {
      "cell_type": "code",
      "metadata": {
        "id": "JlrIXal1GlUb",
        "colab_type": "code",
        "colab": {}
      },
      "source": [
        "x =run()"
      ],
      "execution_count": 0,
      "outputs": []
    },
    {
      "cell_type": "code",
      "metadata": {
        "id": "SSi6LYbKG2a2",
        "colab_type": "code",
        "colab": {}
      },
      "source": [
        "cnn = load_model(\"/Drive/Drive 2/Colab Notebooks/Saved_M/Kaggle/17_256_0.0923_0.9743_0.0555_0.9967.h5\")"
      ],
      "execution_count": 0,
      "outputs": []
    },
    {
      "cell_type": "code",
      "metadata": {
        "id": "i90UHsjNvCJo",
        "colab_type": "code",
        "colab": {
          "base_uri": "https://localhost:8080/",
          "height": 51
        },
        "outputId": "52650738-b487-4c75-eb17-5c93bbd32e7f"
      },
      "source": [
        "prediction = cnn.predict(x)\n",
        "result = prediction[0][0]\n",
        "print(result)\n",
        "print(\"Likelihood that this image contains a cough: {}%\".format(int(result * 100)))"
      ],
      "execution_count": 25,
      "outputs": [
        {
          "output_type": "stream",
          "text": [
            "0.1360118\n",
            "Likelihood that this image contains a cough: 13%\n"
          ],
          "name": "stdout"
        }
      ]
    },
    {
      "cell_type": "code",
      "metadata": {
        "id": "EV8KkZMKwGAj",
        "colab_type": "code",
        "colab": {}
      },
      "source": [
        ""
      ],
      "execution_count": 0,
      "outputs": []
    }
  ]
}